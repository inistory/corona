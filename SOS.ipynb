{
 "cells": [
  {
   "cell_type": "code",
   "execution_count": 4,
   "metadata": {},
   "outputs": [],
   "source": [
    "#https://javan.tistory.com/1\n",
    "#https://dolhani.tistory.com/521\n",
    "import os\n",
    "from bs4 import BeautifulSoup\n",
    "from urllib.request import urlopen\n",
    "import pandas as pd\n",
    "from time import sleep\n",
    "\n",
    "# if not os.path.exists(output_path):\n",
    "#     os.makedirs(output_path)\n",
    "pageNO = [x for x in range(1,88)] \n",
    "df = pd.DataFrame(columns=['create_date', 'location_name', 'msg']) # 엑셀 헤더정보\n",
    "k = 0\n",
    "for i in range(len(pageNO)):\n",
    "    URL = 'http://apis.data.go.kr/1741000/DisasterMsg2/getDisasterMsgList?ServiceKey=F6BZC705CHo8PNuiwYoOKOVzAKUNVepthR1gRQZ3UD3QJd%2FNb0RgWj42QV4fdOeFJfgaimELtG2KJO7GEMbPwg%3D%3D&type=xml&pageNo='+str(pageNO[i])+'&numOfRows=50&flag=Y'\n",
    "    if i!=0:\n",
    "        sleep(200)\n",
    "    data = urlopen(URL).read()\n",
    "    soup = BeautifulSoup(data, \"html.parser\")\n",
    "        \n",
    "    for item in soup.findAll(\"row\"):\n",
    "        df.loc[k] = [item.create_date.text, item.location_name.text, item.msg.text]\n",
    "        k=k+1\n",
    "df.to_csv('./SOSmsg.csv',encoding='utf-8-sig')"
   ]
  },
  {
   "cell_type": "code",
   "execution_count": 58,
   "metadata": {},
   "outputs": [],
   "source": [
    "#어디서 보냈는지 구별\n",
    "f = open('SOSmsg.csv','r')\n",
    "rdr = csv.reader(f)\n",
    "list_a = []\n",
    "cnt = 0\n",
    "for line in rdr:\n",
    "    a = line[3].replace('[', '',1)\n",
    "    a = a.split(']', 1 )\n",
    "    list_a.append([line[0],line[1],line[2],a[0],a[-1]])\n",
    "ft = open('new.csv','w',newline='') #원본을 훼손할 위험이 있으니 다른 파일에 저장하는 것을 추천합니다.\n",
    "wr = csv.writer(ft)\n",
    "wr.writerows(list_a)\n",
    " \n",
    "f.close()"
   ]
  },
  {
   "cell_type": "code",
   "execution_count": null,
   "metadata": {},
   "outputs": [],
   "source": []
  }
 ],
 "metadata": {
  "kernelspec": {
   "display_name": "Python 3",
   "language": "python",
   "name": "python3"
  },
  "language_info": {
   "codemirror_mode": {
    "name": "ipython",
    "version": 3
   },
   "file_extension": ".py",
   "mimetype": "text/x-python",
   "name": "python",
   "nbconvert_exporter": "python",
   "pygments_lexer": "ipython3",
   "version": "3.8.0"
  }
 },
 "nbformat": 4,
 "nbformat_minor": 2
}
